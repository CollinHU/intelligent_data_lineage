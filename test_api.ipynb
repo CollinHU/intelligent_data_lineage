{
 "cells": [
  {
   "cell_type": "markdown",
   "metadata": {},
   "source": [
    "## Test Extract Lineage"
   ]
  },
  {
   "cell_type": "code",
   "execution_count": 33,
   "metadata": {},
   "outputs": [
    {
     "name": "stdout",
     "output_type": "stream",
     "text": [
      "Extracted Tables: \n",
      "[\n",
      "  {\n",
      "    \"target_result\": \"result_table1\",\n",
      "    \"source_data\": [\"datas/agent.log\"],\n",
      "    \"transformation\": [\n",
      "      \"From 'datas/agent.log', filter rows where column 't2' is even to create tableRDD1.\",\n",
      "      \"Create DataFrame df1 from tableRDD1 with schema (t1 StringType, t2 IntegerType, t3 IntegerType).\",\n",
      "      \"Create temporary view 't' from df1.\",\n",
      "      \"Select columns t1, t2, t3, and add a constant column 'tp' with value 'r' to generate result_table1.\"\n",
      "    ]\n",
      "  },\n",
      "  {\n",
      "    \"target_result\": \"result_table2\",\n",
      "    \"source_data\": [\"datas/agent.log\"],\n",
      "    \"transformation\": [\n",
      "      \"From 'datas/agent.log', filter rows where column 't3' is even to create tableRDD2.\",\n",
      "      \"Create DataFrame df2 from tableRDD2 with schema (r1 StringType, r2 IntegerType, r3 IntegerType).\",\n",
      "      \"Create temporary view 'r' from df2.\",\n",
      "      \"Select columns r1, r2, r3, and add a constant column 'tp' with value 'r' to generate result_table2.\"\n",
      "    ]\n",
      "  }\n",
      "]\n",
      "\n"
     ]
    }
   ],
   "source": [
    "import requests\n",
    "import json\n",
    "\n",
    "from test_lib.help import read_spark_sql_source_code\n",
    "\n",
    "# Define the API endpoint\n",
    "url = 'http://127.0.0.1:5000/extract_data_lineage'\n",
    "\n",
    "# Define the payload (input data)\n",
    "\n",
    "SQL =  read_spark_sql_source_code('./data/spark_sql_1.txt')\n",
    "payload = {\n",
    "    \"SQL\": SQL\n",
    "}\n",
    "\n",
    "# Optionally, you can specify the LLM model\n",
    "payload['llm_model'] = 'qwen2.5-7b-instruct' # 'qwen2.5-72b-instruct'\n",
    "\n",
    "# Convert the payload to JSON format\n",
    "headers = {'Content-Type': 'application/json'}\n",
    "\n",
    "# Send the POST request\n",
    "response = requests.post(url, data=json.dumps(payload), headers=headers)\n",
    "\n",
    "# Check the response status code\n",
    "if response.status_code == 200:\n",
    "    # Parse the JSON response\n",
    "    result = response.json()\n",
    "    print(\"Extracted Tables:\", result['result'])\n",
    "else:\n",
    "    print(\"Failed to extract tables. Status code:\", response.status_code)\n",
    "    print(\"Response:\", response.text)"
   ]
  },
  {
   "cell_type": "markdown",
   "metadata": {},
   "source": [
    "## Compare the Difference"
   ]
  },
  {
   "cell_type": "code",
   "execution_count": 34,
   "metadata": {},
   "outputs": [
    {
     "name": "stdout",
     "output_type": "stream",
     "text": [
      "Comparison Result: \n",
      "{\n",
      "  \"spark_data_lineage\": {\n",
      "    \"original_target_result\": \"t\",\n",
      "    \"original_source_data\": [\"datas/agent.log\"],\n",
      "    \"revised_target_result\": \"r\",\n",
      "    \"revised_source_data\": [\"datas/agent.log\"],\n",
      "    \"transformation_change\": [\n",
      "      \"Change 1: In the original code, `tableRDD1` was created using `rowRDD.filter(row => row.getInt(1) % 2 == 0)`, but in the revised code, `tableRDD2` is created using `rowRDD.filter(row => row.getInt(2) % 2 == 0)`. This change alters the filtering condition based on the second column instead of the first.\",\n",
      "      \"Change 2: The original code attempted to create a temporary view `t` with `df1`, but it was commented out. In the revised code, a new temporary view `r` is created with `df2` using the filtered `tableRDD2`.\",\n",
      "      \"Change 3: The SQL query in the original code was `select t1 as t1, t2 as t2, t3 as t3, 'r' as tp from t`, targeting the temporary view `t`. In the revised code, the SQL query is `select r1 as t1, r2 as t2, r3 as t3, 'r' as tp from r`, targeting the temporary view `r`. This change reflects the alteration in the source data for the final output.\"\n",
      "    ]\n",
      "  }\n",
      "}\n",
      "\n"
     ]
    }
   ],
   "source": [
    "import requests\n",
    "import json\n",
    "\n",
    "# Define the API endpoint\n",
    "url = 'http://127.0.0.1:5000/compare_spark_code'\n",
    "\n",
    "# Define the payload (input data)\n",
    "code_before = read_spark_sql_source_code('./data/spark_sql_before_1.txt')\n",
    "code_after = read_spark_sql_source_code('./data/spark_sql_after_1.txt')\n",
    "\n",
    "payload = {\n",
    "    \"original_sql_code\": code_before,\n",
    "    \"revised_sql_code\": code_after \n",
    "}\n",
    "\n",
    "# Optionally, you can specify the LLM model\n",
    "payload['llm_model'] = 'qwen2.5-7b-instruct' # 'qwen2.5-72b-instruct'\n",
    "\n",
    "# Convert the payload to JSON format\n",
    "headers = {'Content-Type': 'application/json'}\n",
    "\n",
    "# Send the POST request\n",
    "response = requests.post(url, data=json.dumps(payload), headers=headers)\n",
    "\n",
    "# Check the response status code\n",
    "if response.status_code == 200:\n",
    "    # Parse the JSON response\n",
    "    result = response.json()\n",
    "    print(\"Comparison Result:\", result['result'])\n",
    "else:\n",
    "    print(\"Failed to compare SQL lineages. Status code:\", response.status_code)\n",
    "    print(\"Response:\", response.text)"
   ]
  },
  {
   "cell_type": "code",
   "execution_count": null,
   "metadata": {},
   "outputs": [],
   "source": []
  }
 ],
 "metadata": {
  "kernelspec": {
   "display_name": "hackathon_alibaba",
   "language": "python",
   "name": "python3"
  },
  "language_info": {
   "codemirror_mode": {
    "name": "ipython",
    "version": 3
   },
   "file_extension": ".py",
   "mimetype": "text/x-python",
   "name": "python",
   "nbconvert_exporter": "python",
   "pygments_lexer": "ipython3",
   "version": "3.11.10"
  }
 },
 "nbformat": 4,
 "nbformat_minor": 2
}

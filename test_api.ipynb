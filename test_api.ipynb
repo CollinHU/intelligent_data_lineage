{
 "cells": [
  {
   "cell_type": "markdown",
   "metadata": {},
   "source": [
    "## Test Extract Lineage"
   ]
  },
  {
   "cell_type": "code",
   "execution_count": 3,
   "metadata": {},
   "outputs": [
    {
     "name": "stdout",
     "output_type": "stream",
     "text": [
      "Extracted Tables: \n",
      "{\n",
      "  \"spark_data_lineage\": [\n",
      "    {\n",
      "      \"target_result\": \"result_table1\",\n",
      "      \"source_data\": [\"datas/agent.log\"],\n",
      "      \"transformation\": [\n",
      "        \"Read data from 'datas/agent.log' and split each line into words, creating an RDD of Rows with columns (t1, t2, t3).\",\n",
      "        \"Filter the RDD to include only rows where the value in column t2 is even.\",\n",
      "        \"Create a DataFrame 'df1' from the filtered RDD with schema (t1: StringType, t2: IntegerType, t3: IntegerType).\",\n",
      "        \"Register 'df1' as a temporary view 't'.\",\n",
      "        \"Execute SQL query to select columns t1, t2, t3 from view 't' and add a constant column 'tp' with value 'r', resulting in DataFrame 'result_table1'.\"\n",
      "      ]\n",
      "    },\n",
      "    {\n",
      "      \"target_result\": \"result_table2\",\n",
      "      \"source_data\": [\"datas/agent.log\"],\n",
      "      \"transformation\": [\n",
      "        \"Read data from 'datas/agent.log' and split each line into words, creating an RDD of Rows with columns (t1, t2, t3).\",\n",
      "        \"Filter the RDD to include only rows where the value in column t3 is even.\",\n",
      "        \"Create a DataFrame 'df2' from the filtered RDD with schema (r1: StringType, r2: IntegerType, r3: IntegerType).\",\n",
      "        \"Register 'df2' as a temporary view 'r'.\",\n",
      "        \"Execute SQL query to select columns r1, r2, r3 from view 'r' and add a constant column 'tp' with value 'r', resulting in DataFrame 'result_table2'.\"\n",
      "      ]\n",
      "    }\n",
      "  ]\n",
      "}\n",
      "\n"
     ]
    }
   ],
   "source": [
    "import requests\n",
    "import json\n",
    "\n",
    "from test_lib.help import read_spark_sql_source_code\n",
    "\n",
    "# Define the API endpoint\n",
    "url = 'http://127.0.0.1:6000/extract_data_lineage'\n",
    "\n",
    "# Define the payload (input data)\n",
    "\n",
    "SQL =  read_spark_sql_source_code('./data/spark_sql_1.txt')\n",
    "payload = {\n",
    "    \"SQL\": SQL\n",
    "}\n",
    "\n",
    "# Optionally, you can specify the LLM model\n",
    "payload['llm_model'] = 'qwen2.5-72b-instruct' # 'qwen2.5-72b-instruct'\n",
    "\n",
    "# Convert the payload to JSON format\n",
    "headers = {'Content-Type': 'application/json'}\n",
    "\n",
    "# Send the POST request\n",
    "response = requests.post(url, data=json.dumps(payload), headers=headers)\n",
    "\n",
    "# Check the response status code\n",
    "if response.status_code == 200:\n",
    "    # Parse the JSON response\n",
    "    result = response.json()\n",
    "    print(\"Extracted Tables:\", result['result'])\n",
    "else:\n",
    "    print(\"Failed to extract tables. Status code:\", response.status_code)\n",
    "    print(\"Response:\", response.text)"
   ]
  },
  {
   "cell_type": "markdown",
   "metadata": {},
   "source": [
    "## Compare the Difference"
   ]
  },
  {
   "cell_type": "code",
   "execution_count": null,
   "metadata": {},
   "outputs": [
    {
     "ename": "NameError",
     "evalue": "name 'read_spark_sql_source_code' is not defined",
     "output_type": "error",
     "traceback": [
      "\u001b[0;31m---------------------------------------------------------------------------\u001b[0m",
      "\u001b[0;31mNameError\u001b[0m                                 Traceback (most recent call last)",
      "Cell \u001b[0;32mIn[1], line 8\u001b[0m\n\u001b[1;32m      5\u001b[0m url \u001b[38;5;241m=\u001b[39m \u001b[38;5;124m'\u001b[39m\u001b[38;5;124mhttp://127.0.0.1:6000/compare_spark_code\u001b[39m\u001b[38;5;124m'\u001b[39m\n\u001b[1;32m      7\u001b[0m \u001b[38;5;66;03m# Define the payload (input data)\u001b[39;00m\n\u001b[0;32m----> 8\u001b[0m code_before \u001b[38;5;241m=\u001b[39m \u001b[43mread_spark_sql_source_code\u001b[49m(\u001b[38;5;124m'\u001b[39m\u001b[38;5;124m./data/spark_sql_before_1.txt\u001b[39m\u001b[38;5;124m'\u001b[39m)\n\u001b[1;32m      9\u001b[0m code_after \u001b[38;5;241m=\u001b[39m read_spark_sql_source_code(\u001b[38;5;124m'\u001b[39m\u001b[38;5;124m./data/spark_sql_after_1.txt\u001b[39m\u001b[38;5;124m'\u001b[39m)\n\u001b[1;32m     11\u001b[0m payload \u001b[38;5;241m=\u001b[39m {\n\u001b[1;32m     12\u001b[0m     \u001b[38;5;124m\"\u001b[39m\u001b[38;5;124moriginal_sql_code\u001b[39m\u001b[38;5;124m\"\u001b[39m: code_before,\n\u001b[1;32m     13\u001b[0m     \u001b[38;5;124m\"\u001b[39m\u001b[38;5;124mrevised_sql_code\u001b[39m\u001b[38;5;124m\"\u001b[39m: code_after \n\u001b[1;32m     14\u001b[0m }\n",
      "\u001b[0;31mNameError\u001b[0m: name 'read_spark_sql_source_code' is not defined"
     ]
    }
   ],
   "source": [
    "import requests\n",
    "import json\n",
    "\n",
    "# Define the API endpoint\n",
    "url = 'http://127.0.0.1:6000/compare_spark_code'\n",
    "\n",
    "# Define the payload (input data)\n",
    "code_before = read_spark_sql_source_code('./data/spark_sql_before_1.txt')\n",
    "code_after = read_spark_sql_source_code('./data/spark_sql_after_1.txt')\n",
    "\n",
    "payload = {\n",
    "    \"original_sql_code\": code_before,\n",
    "    \"revised_sql_code\": code_after \n",
    "}\n",
    "\n",
    "# Optionally, you can specify the LLM model\n",
    "payload['llm_model'] = 'qwen2.5-72b-instruct' # 'qwen2.5-72b-instruct'\n",
    "\n",
    "# Convert the payload to JSON format\n",
    "headers = {'Content-Type': 'application/json'}\n",
    "\n",
    "# Send the POST request\n",
    "response = requests.post(url, data=json.dumps(payload), headers=headers)\n",
    "\n",
    "# Check the response status code\n",
    "if response.status_code == 200:\n",
    "    # Parse the JSON response\n",
    "    result = response.json()\n",
    "    print(\"Comparison Result:\", result['result'])\n",
    "else:\n",
    "    print(\"Failed to compare SQL lineages. Status code:\", response.status_code)\n",
    "    print(\"Response:\", response.text)"
   ]
  },
  {
   "cell_type": "code",
   "execution_count": null,
   "metadata": {},
   "outputs": [],
   "source": []
  }
 ],
 "metadata": {
  "kernelspec": {
   "display_name": "hackathon_alibaba",
   "language": "python",
   "name": "python3"
  },
  "language_info": {
   "codemirror_mode": {
    "name": "ipython",
    "version": 3
   },
   "file_extension": ".py",
   "mimetype": "text/x-python",
   "name": "python",
   "nbconvert_exporter": "python",
   "pygments_lexer": "ipython3",
   "version": "3.11.10"
  }
 },
 "nbformat": 4,
 "nbformat_minor": 2
}
